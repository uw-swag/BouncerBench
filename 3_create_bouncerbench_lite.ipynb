{
 "cells": [
  {
   "cell_type": "code",
   "execution_count": 1,
   "id": "59406aaa",
   "metadata": {},
   "outputs": [],
   "source": [
    "import pandas as pd\n",
    "input_bouncer_data = pd.read_csv('./dataset/input_bouncer.csv')\n",
    "output_bouncer_data = pd.read_csv(\"./dataset/random_sample_bouncer.csv\")"
   ]
  },
  {
   "cell_type": "code",
   "execution_count": 2,
   "id": "4c6bb227",
   "metadata": {},
   "outputs": [
    {
     "data": {
      "text/plain": [
       "underspecified\n",
       "1.0    653\n",
       "2.0    542\n",
       "0.0    396\n",
       "3.0    108\n",
       "Name: count, dtype: int64"
      ]
     },
     "execution_count": 2,
     "metadata": {},
     "output_type": "execute_result"
    }
   ],
   "source": [
    "input_bouncer_data[\"underspecified\"].value_counts()"
   ]
  },
  {
   "cell_type": "code",
   "execution_count": 3,
   "id": "ad5a584f",
   "metadata": {},
   "outputs": [],
   "source": [
    "input_bouncer_data[\"input_bounce\"] = input_bouncer_data[\"underspecified\"] >= 2"
   ]
  },
  {
   "cell_type": "code",
   "execution_count": 4,
   "id": "fe3e72f7",
   "metadata": {},
   "outputs": [],
   "source": [
    "def parse_frac(ts):\n",
    "    d = eval(ts)\n",
    "    succ = len(d[\"FAIL_TO_PASS\"][\"success\"]) + len(d[\"PASS_TO_PASS\"][\"success\"])\n",
    "    tot = succ + len(d[\"FAIL_TO_PASS\"][\"failure\"]) + len(d[\"PASS_TO_PASS\"][\"failure\"])\n",
    "    return succ / tot if tot > 0 else 0.0\n",
    "\n",
    "\n",
    "pass_frac = output_bouncer_data[\"tests_status\"].apply(parse_frac)"
   ]
  },
  {
   "cell_type": "code",
   "execution_count": 5,
   "id": "435a1033",
   "metadata": {},
   "outputs": [],
   "source": [
    "output_bouncer_data[\"output_quality\"] = pass_frac\n",
    "output_bouncer_data[\"output_bounce\"] = pass_frac < 1.0"
   ]
  },
  {
   "cell_type": "code",
   "execution_count": 6,
   "id": "dbc0c87b",
   "metadata": {},
   "outputs": [
    {
     "data": {
      "text/plain": [
       "output_bounce\n",
       "True     405\n",
       "False    237\n",
       "Name: count, dtype: int64"
      ]
     },
     "execution_count": 6,
     "metadata": {},
     "output_type": "execute_result"
    }
   ],
   "source": [
    "output_bouncer_data[\"output_bounce\"].value_counts()"
   ]
  },
  {
   "cell_type": "code",
   "execution_count": 8,
   "id": "26e58839",
   "metadata": {},
   "outputs": [],
   "source": [
    "output_bouncer_data = output_bouncer_data.set_index(\"instance_id\")\n",
    "input_bouncer_data = input_bouncer_data.set_index(\"instance_id\")"
   ]
  },
  {
   "cell_type": "code",
   "execution_count": 9,
   "id": "6846767d",
   "metadata": {},
   "outputs": [
    {
     "name": "stdout",
     "output_type": "stream",
     "text": [
      "Dropped columns: ['problem_statement', 'repo', 'base_commit']\n"
     ]
    }
   ],
   "source": [
    "input_bouncer_data = input_bouncer_data.rename(\n",
    "    columns={\n",
    "        \"patch\": \"golden_patch\",\n",
    "        \"underspecified\": \"input_quality\",\n",
    "    }\n",
    ")\n",
    "dropped_columns = output_bouncer_data.columns.intersection(input_bouncer_data.columns)\n",
    "output_bouncer_data = output_bouncer_data.drop(columns=dropped_columns)\n",
    "print(\"Dropped columns:\", dropped_columns.tolist())"
   ]
  },
  {
   "cell_type": "code",
   "execution_count": 10,
   "id": "260a6b5e",
   "metadata": {},
   "outputs": [],
   "source": [
    "bouncer_bench_lite = input_bouncer_data.join(output_bouncer_data, how=\"inner\")"
   ]
  },
  {
   "cell_type": "code",
   "execution_count": 12,
   "id": "03a1caad",
   "metadata": {},
   "outputs": [
    {
     "data": {
      "text/plain": [
       "input_bounce\n",
       "False    539\n",
       "True     103\n",
       "Name: count, dtype: int64"
      ]
     },
     "execution_count": 12,
     "metadata": {},
     "output_type": "execute_result"
    }
   ],
   "source": [
    "bouncer_bench_lite[\"input_bounce\"].value_counts()"
   ]
  },
  {
   "cell_type": "code",
   "execution_count": 13,
   "id": "c581e57d",
   "metadata": {},
   "outputs": [
    {
     "data": {
      "text/plain": [
       "output_bounce\n",
       "True     405\n",
       "False    237\n",
       "Name: count, dtype: int64"
      ]
     },
     "execution_count": 13,
     "metadata": {},
     "output_type": "execute_result"
    }
   ],
   "source": [
    "bouncer_bench_lite[\"output_bounce\"].value_counts()"
   ]
  },
  {
   "cell_type": "code",
   "execution_count": 14,
   "id": "ac0b8dde",
   "metadata": {},
   "outputs": [],
   "source": [
    "bouncer_bench_lite.to_csv(\"./dataset/bouncer_bench_lite.csv\", index=True)"
   ]
  }
 ],
 "metadata": {
  "kernelspec": {
   "display_name": ".venv",
   "language": "python",
   "name": "python3"
  },
  "language_info": {
   "codemirror_mode": {
    "name": "ipython",
    "version": 3
   },
   "file_extension": ".py",
   "mimetype": "text/x-python",
   "name": "python",
   "nbconvert_exporter": "python",
   "pygments_lexer": "ipython3",
   "version": "3.9.12"
  }
 },
 "nbformat": 4,
 "nbformat_minor": 5
}
