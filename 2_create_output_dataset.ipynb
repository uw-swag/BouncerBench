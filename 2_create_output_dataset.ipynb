{
 "cells": [
  {
   "cell_type": "code",
   "execution_count": 1,
   "metadata": {},
   "outputs": [],
   "source": [
    "import pandas as pd\n",
    "df = pd.read_csv('./data/all_patches.csv')"
   ]
  },
  {
   "cell_type": "code",
   "execution_count": 2,
   "metadata": {},
   "outputs": [],
   "source": [
    "df = df.drop_duplicates(subset=[\"patch\"], keep=\"first\")"
   ]
  },
  {
   "cell_type": "code",
   "execution_count": 3,
   "metadata": {},
   "outputs": [
    {
     "data": {
      "text/plain": [
       "count                                 46238\n",
       "unique                                   92\n",
       "top       20240620_sweagent_claude3.5sonnet\n",
       "freq                                   2218\n",
       "Name: agent, dtype: object"
      ]
     },
     "execution_count": 3,
     "metadata": {},
     "output_type": "execute_result"
    }
   ],
   "source": [
    "df[\"agent\"].describe()"
   ]
  },
  {
   "cell_type": "code",
   "execution_count": 5,
   "metadata": {},
   "outputs": [],
   "source": [
    "labeled_df = pd.read_csv('./data/ensembled_annotations_public.csv')\n",
    "\n",
    "# Filter out the rows where the 'instance_id' is not in the labeled_df\n",
    "df = df[df['instance_id'].isin(labeled_df['instance_id'])]"
   ]
  },
  {
   "cell_type": "code",
   "execution_count": 6,
   "metadata": {},
   "outputs": [
    {
     "data": {
      "text/plain": [
       "40270"
      ]
     },
     "execution_count": 6,
     "metadata": {},
     "output_type": "execute_result"
    }
   ],
   "source": [
    "len(df)"
   ]
  },
  {
   "cell_type": "code",
   "execution_count": 7,
   "metadata": {},
   "outputs": [
    {
     "data": {
      "text/plain": [
       "instance_id\n",
       "django__django-11848                90\n",
       "astropy__astropy-14995              89\n",
       "sympy__sympy-17655                  88\n",
       "django__django-14999                88\n",
       "sympy__sympy-15345                  88\n",
       "                                    ..\n",
       "sphinx-doc__sphinx-8579              3\n",
       "sphinx-doc__sphinx-8611              3\n",
       "scikit-learn__scikit-learn-13933     3\n",
       "scikit-learn__scikit-learn-12656     3\n",
       "pytest-dev__pytest-8250              2\n",
       "Name: count, Length: 1699, dtype: int64"
      ]
     },
     "execution_count": 7,
     "metadata": {},
     "output_type": "execute_result"
    }
   ],
   "source": [
    "df['instance_id'].value_counts()"
   ]
  },
  {
   "cell_type": "code",
   "execution_count": 8,
   "metadata": {},
   "outputs": [
    {
     "data": {
      "text/plain": [
       "resolved\n",
       "False    25432\n",
       "True     14838\n",
       "Name: count, dtype: int64"
      ]
     },
     "execution_count": 8,
     "metadata": {},
     "output_type": "execute_result"
    }
   ],
   "source": [
    "df[\"resolved\"].value_counts()"
   ]
  },
  {
   "cell_type": "code",
   "execution_count": 9,
   "metadata": {},
   "outputs": [
    {
     "data": {
      "text/plain": [
       "648"
      ]
     },
     "execution_count": 9,
     "metadata": {},
     "output_type": "execute_result"
    }
   ],
   "source": [
    "input_bouncer_df = pd.read_csv('./dataset/input_bouncer.csv')\n",
    "evaluatable_df = input_bouncer_df[\n",
    "    (input_bouncer_df['false_negative'] != 2.0) &\n",
    "    (input_bouncer_df['false_negative'] != 3.0) &\n",
    "    (input_bouncer_df['other_major_issues'] != 1.0)]\n",
    "len(evaluatable_df)"
   ]
  },
  {
   "cell_type": "code",
   "execution_count": 10,
   "metadata": {},
   "outputs": [
    {
     "data": {
      "text/plain": [
       "109"
      ]
     },
     "execution_count": 10,
     "metadata": {},
     "output_type": "execute_result"
    }
   ],
   "source": [
    "input_bounced = evaluatable_df[\n",
    "    (evaluatable_df['underspecified'] == 2.0) |\n",
    "    (evaluatable_df['underspecified'] == 3.0)\n",
    "]\n",
    "len(input_bounced)"
   ]
  },
  {
   "cell_type": "markdown",
   "metadata": {},
   "source": [
    "Random Sample"
   ]
  },
  {
   "cell_type": "code",
   "execution_count": 11,
   "metadata": {},
   "outputs": [
    {
     "name": "stdout",
     "output_type": "stream",
     "text": [
      "Skipping instance_id django__django-12231 because all options 6 are resolved\n",
      "Skipping instance_id django__django-16588 because all options 7 are resolved\n",
      "Skipping instance_id django__django-9871 because all options 6 are resolved\n",
      "Skipping instance_id psf__requests-1537 because all options 7 are resolved\n",
      "Skipping instance_id scikit-learn__scikit-learn-11333 because all options 7 are resolved\n",
      "Skipping instance_id sympy__sympy-24455 because all options 7 are resolved\n"
     ]
    }
   ],
   "source": [
    "new_dataset = pd.DataFrame()\n",
    "for _instance_id in evaluatable_df['instance_id'].unique():\n",
    "    _options = df[df['instance_id'] == _instance_id]\n",
    "    # if _instance_id is in input_bounced['instance_id'].unique():\n",
    "    # _options must be only the resolved = False\n",
    "    if _instance_id in input_bounced['instance_id'].unique():\n",
    "        if len(_options[_options['resolved'] == False]) == 0:\n",
    "            print(f\"Skipping instance_id {_instance_id} because all options {len(_options)} are resolved\")\n",
    "            continue\n",
    "        else:\n",
    "            _sample = _options[_options['resolved'] == False].sample(1, random_state=42)\n",
    "    else:\n",
    "        _sample = _options.sample(1, random_state=42)\n",
    "    new_dataset = pd.concat([new_dataset, _sample], ignore_index=True)\n",
    "new_dataset = new_dataset.reset_index(drop=True)"
   ]
  },
  {
   "cell_type": "code",
   "execution_count": 12,
   "metadata": {},
   "outputs": [],
   "source": [
    "def get_problem_statement(instance_id):\n",
    "    return input_bouncer_df[input_bouncer_df['instance_id'] == instance_id]['problem_statement'].values[0]\n",
    "def get_repo(instance_id):\n",
    "    return input_bouncer_df[input_bouncer_df['instance_id'] == instance_id]['repo'].values[0]\n",
    "def get_base_commit(instance_id):\n",
    "    return input_bouncer_df[input_bouncer_df['instance_id'] == instance_id]['base_commit'].values[0]\n",
    "new_dataset['problem_statement'] = new_dataset['instance_id'].apply(get_problem_statement)\n",
    "new_dataset['repo'] = new_dataset['instance_id'].apply(get_repo)\n",
    "new_dataset[\"base_commit\"] = new_dataset[\"instance_id\"].apply(get_base_commit)"
   ]
  },
  {
   "cell_type": "code",
   "execution_count": 13,
   "metadata": {},
   "outputs": [],
   "source": [
    "def parse_frac(ts):\n",
    "    d = eval(ts)\n",
    "    succ = len(d[\"FAIL_TO_PASS\"][\"success\"]) + len(d[\"PASS_TO_PASS\"][\"success\"])\n",
    "    tot = succ + len(d[\"FAIL_TO_PASS\"][\"failure\"]) + len(d[\"PASS_TO_PASS\"][\"failure\"])\n",
    "    return succ / tot if tot > 0 else 0.0\n",
    "\n",
    "\n",
    "pass_frac = new_dataset[\"tests_status\"].apply(parse_frac)\n",
    "new_dataset[\"output_quality\"] = pass_frac\n",
    "new_dataset[\"output_bounce\"] = pass_frac < 1.0"
   ]
  },
  {
   "cell_type": "code",
   "execution_count": 14,
   "metadata": {},
   "outputs": [],
   "source": [
    "new_dataset.to_csv('./dataset/random_sample_bouncer.csv', index=False)"
   ]
  },
  {
   "cell_type": "code",
   "execution_count": 15,
   "metadata": {},
   "outputs": [
    {
     "data": {
      "text/plain": [
       "output_bounce\n",
       "True     405\n",
       "False    237\n",
       "Name: count, dtype: int64"
      ]
     },
     "execution_count": 15,
     "metadata": {},
     "output_type": "execute_result"
    }
   ],
   "source": [
    "new_dataset[\"output_bounce\"].value_counts()"
   ]
  }
 ],
 "metadata": {
  "kernelspec": {
   "display_name": ".venv",
   "language": "python",
   "name": "python3"
  },
  "language_info": {
   "codemirror_mode": {
    "name": "ipython",
    "version": 3
   },
   "file_extension": ".py",
   "mimetype": "text/x-python",
   "name": "python",
   "nbconvert_exporter": "python",
   "pygments_lexer": "ipython3",
   "version": "3.9.12"
  }
 },
 "nbformat": 4,
 "nbformat_minor": 2
}
